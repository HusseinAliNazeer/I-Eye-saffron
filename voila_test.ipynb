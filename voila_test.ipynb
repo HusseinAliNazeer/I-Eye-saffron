{
 "cells": [
  {
   "cell_type": "markdown",
   "id": "539cbd69",
   "metadata": {},
   "source": [
    "# i-Eye Saffron Image Classifier"
   ]
  },
  {
   "cell_type": "code",
   "execution_count": 26,
   "id": "160930af",
   "metadata": {},
   "outputs": [],
   "source": [
    "from keras.models import load_model\n",
    "import ipywidgets as widgets\n",
    "import io\n",
    "from PIL import Image\n",
    "import numpy as np\n",
    "from keras.preprocessing.image import img_to_array\n",
    "from IPython import display\n",
    "import whatimage\n",
    "import pyheif"
   ]
  },
  {
   "cell_type": "code",
   "execution_count": 27,
   "id": "aacbd60e",
   "metadata": {
    "scrolled": true
   },
   "outputs": [
    {
     "name": "stdout",
     "output_type": "stream",
     "text": [
      "Model: \"sequential_5\"\n",
      "_________________________________________________________________\n",
      "Layer (type)                 Output Shape              Param #   \n",
      "=================================================================\n",
      "vgg16 (Functional)           (None, 7, 7, 512)         14714688  \n",
      "_________________________________________________________________\n",
      "flatten_5 (Flatten)          (None, 25088)             0         \n",
      "_________________________________________________________________\n",
      "dense_11 (Dense)             (None, 128)               3211392   \n",
      "_________________________________________________________________\n",
      "dropout_6 (Dropout)          (None, 128)               0         \n",
      "_________________________________________________________________\n",
      "dense_12 (Dense)             (None, 64)                8256      \n",
      "_________________________________________________________________\n",
      "dropout_7 (Dropout)          (None, 64)                0         \n",
      "_________________________________________________________________\n",
      "dense_13 (Dense)             (None, 2)                 130       \n",
      "=================================================================\n",
      "Total params: 17,934,466\n",
      "Trainable params: 3,219,778\n",
      "Non-trainable params: 14,714,688\n",
      "_________________________________________________________________\n"
     ]
    }
   ],
   "source": [
    "model = load_model('vgg_model_1.hdf5')\n",
    "model.summary()"
   ]
  },
  {
   "cell_type": "code",
   "execution_count": 28,
   "id": "23c62219",
   "metadata": {},
   "outputs": [
    {
     "name": "stdout",
     "output_type": "stream",
     "text": [
      "{'name': 'vgg16', 'layers': [{'class_name': 'InputLayer', 'config': {'batch_input_shape': (None, 224, 224, 3), 'dtype': 'float32', 'sparse': False, 'ragged': False, 'name': 'input_3'}, 'name': 'input_3', 'inbound_nodes': []}, {'class_name': 'Conv2D', 'config': {'name': 'block1_conv1', 'trainable': False, 'dtype': 'float32', 'filters': 64, 'kernel_size': (3, 3), 'strides': (1, 1), 'padding': 'same', 'data_format': 'channels_last', 'dilation_rate': (1, 1), 'groups': 1, 'activation': 'relu', 'use_bias': True, 'kernel_initializer': {'class_name': 'GlorotUniform', 'config': {'seed': None}}, 'bias_initializer': {'class_name': 'Zeros', 'config': {}}, 'kernel_regularizer': None, 'bias_regularizer': None, 'activity_regularizer': None, 'kernel_constraint': None, 'bias_constraint': None}, 'name': 'block1_conv1', 'inbound_nodes': [[['input_3', 0, 0, {}]]]}, {'class_name': 'Conv2D', 'config': {'name': 'block1_conv2', 'trainable': False, 'dtype': 'float32', 'filters': 64, 'kernel_size': (3, 3), 'strides': (1, 1), 'padding': 'same', 'data_format': 'channels_last', 'dilation_rate': (1, 1), 'groups': 1, 'activation': 'relu', 'use_bias': True, 'kernel_initializer': {'class_name': 'GlorotUniform', 'config': {'seed': None}}, 'bias_initializer': {'class_name': 'Zeros', 'config': {}}, 'kernel_regularizer': None, 'bias_regularizer': None, 'activity_regularizer': None, 'kernel_constraint': None, 'bias_constraint': None}, 'name': 'block1_conv2', 'inbound_nodes': [[['block1_conv1', 0, 0, {}]]]}, {'class_name': 'MaxPooling2D', 'config': {'name': 'block1_pool', 'trainable': False, 'dtype': 'float32', 'pool_size': (2, 2), 'padding': 'valid', 'strides': (2, 2), 'data_format': 'channels_last'}, 'name': 'block1_pool', 'inbound_nodes': [[['block1_conv2', 0, 0, {}]]]}, {'class_name': 'Conv2D', 'config': {'name': 'block2_conv1', 'trainable': False, 'dtype': 'float32', 'filters': 128, 'kernel_size': (3, 3), 'strides': (1, 1), 'padding': 'same', 'data_format': 'channels_last', 'dilation_rate': (1, 1), 'groups': 1, 'activation': 'relu', 'use_bias': True, 'kernel_initializer': {'class_name': 'GlorotUniform', 'config': {'seed': None}}, 'bias_initializer': {'class_name': 'Zeros', 'config': {}}, 'kernel_regularizer': None, 'bias_regularizer': None, 'activity_regularizer': None, 'kernel_constraint': None, 'bias_constraint': None}, 'name': 'block2_conv1', 'inbound_nodes': [[['block1_pool', 0, 0, {}]]]}, {'class_name': 'Conv2D', 'config': {'name': 'block2_conv2', 'trainable': False, 'dtype': 'float32', 'filters': 128, 'kernel_size': (3, 3), 'strides': (1, 1), 'padding': 'same', 'data_format': 'channels_last', 'dilation_rate': (1, 1), 'groups': 1, 'activation': 'relu', 'use_bias': True, 'kernel_initializer': {'class_name': 'GlorotUniform', 'config': {'seed': None}}, 'bias_initializer': {'class_name': 'Zeros', 'config': {}}, 'kernel_regularizer': None, 'bias_regularizer': None, 'activity_regularizer': None, 'kernel_constraint': None, 'bias_constraint': None}, 'name': 'block2_conv2', 'inbound_nodes': [[['block2_conv1', 0, 0, {}]]]}, {'class_name': 'MaxPooling2D', 'config': {'name': 'block2_pool', 'trainable': False, 'dtype': 'float32', 'pool_size': (2, 2), 'padding': 'valid', 'strides': (2, 2), 'data_format': 'channels_last'}, 'name': 'block2_pool', 'inbound_nodes': [[['block2_conv2', 0, 0, {}]]]}, {'class_name': 'Conv2D', 'config': {'name': 'block3_conv1', 'trainable': False, 'dtype': 'float32', 'filters': 256, 'kernel_size': (3, 3), 'strides': (1, 1), 'padding': 'same', 'data_format': 'channels_last', 'dilation_rate': (1, 1), 'groups': 1, 'activation': 'relu', 'use_bias': True, 'kernel_initializer': {'class_name': 'GlorotUniform', 'config': {'seed': None}}, 'bias_initializer': {'class_name': 'Zeros', 'config': {}}, 'kernel_regularizer': None, 'bias_regularizer': None, 'activity_regularizer': None, 'kernel_constraint': None, 'bias_constraint': None}, 'name': 'block3_conv1', 'inbound_nodes': [[['block2_pool', 0, 0, {}]]]}, {'class_name': 'Conv2D', 'config': {'name': 'block3_conv2', 'trainable': False, 'dtype': 'float32', 'filters': 256, 'kernel_size': (3, 3), 'strides': (1, 1), 'padding': 'same', 'data_format': 'channels_last', 'dilation_rate': (1, 1), 'groups': 1, 'activation': 'relu', 'use_bias': True, 'kernel_initializer': {'class_name': 'GlorotUniform', 'config': {'seed': None}}, 'bias_initializer': {'class_name': 'Zeros', 'config': {}}, 'kernel_regularizer': None, 'bias_regularizer': None, 'activity_regularizer': None, 'kernel_constraint': None, 'bias_constraint': None}, 'name': 'block3_conv2', 'inbound_nodes': [[['block3_conv1', 0, 0, {}]]]}, {'class_name': 'Conv2D', 'config': {'name': 'block3_conv3', 'trainable': False, 'dtype': 'float32', 'filters': 256, 'kernel_size': (3, 3), 'strides': (1, 1), 'padding': 'same', 'data_format': 'channels_last', 'dilation_rate': (1, 1), 'groups': 1, 'activation': 'relu', 'use_bias': True, 'kernel_initializer': {'class_name': 'GlorotUniform', 'config': {'seed': None}}, 'bias_initializer': {'class_name': 'Zeros', 'config': {}}, 'kernel_regularizer': None, 'bias_regularizer': None, 'activity_regularizer': None, 'kernel_constraint': None, 'bias_constraint': None}, 'name': 'block3_conv3', 'inbound_nodes': [[['block3_conv2', 0, 0, {}]]]}, {'class_name': 'MaxPooling2D', 'config': {'name': 'block3_pool', 'trainable': False, 'dtype': 'float32', 'pool_size': (2, 2), 'padding': 'valid', 'strides': (2, 2), 'data_format': 'channels_last'}, 'name': 'block3_pool', 'inbound_nodes': [[['block3_conv3', 0, 0, {}]]]}, {'class_name': 'Conv2D', 'config': {'name': 'block4_conv1', 'trainable': False, 'dtype': 'float32', 'filters': 512, 'kernel_size': (3, 3), 'strides': (1, 1), 'padding': 'same', 'data_format': 'channels_last', 'dilation_rate': (1, 1), 'groups': 1, 'activation': 'relu', 'use_bias': True, 'kernel_initializer': {'class_name': 'GlorotUniform', 'config': {'seed': None}}, 'bias_initializer': {'class_name': 'Zeros', 'config': {}}, 'kernel_regularizer': None, 'bias_regularizer': None, 'activity_regularizer': None, 'kernel_constraint': None, 'bias_constraint': None}, 'name': 'block4_conv1', 'inbound_nodes': [[['block3_pool', 0, 0, {}]]]}, {'class_name': 'Conv2D', 'config': {'name': 'block4_conv2', 'trainable': False, 'dtype': 'float32', 'filters': 512, 'kernel_size': (3, 3), 'strides': (1, 1), 'padding': 'same', 'data_format': 'channels_last', 'dilation_rate': (1, 1), 'groups': 1, 'activation': 'relu', 'use_bias': True, 'kernel_initializer': {'class_name': 'GlorotUniform', 'config': {'seed': None}}, 'bias_initializer': {'class_name': 'Zeros', 'config': {}}, 'kernel_regularizer': None, 'bias_regularizer': None, 'activity_regularizer': None, 'kernel_constraint': None, 'bias_constraint': None}, 'name': 'block4_conv2', 'inbound_nodes': [[['block4_conv1', 0, 0, {}]]]}, {'class_name': 'Conv2D', 'config': {'name': 'block4_conv3', 'trainable': False, 'dtype': 'float32', 'filters': 512, 'kernel_size': (3, 3), 'strides': (1, 1), 'padding': 'same', 'data_format': 'channels_last', 'dilation_rate': (1, 1), 'groups': 1, 'activation': 'relu', 'use_bias': True, 'kernel_initializer': {'class_name': 'GlorotUniform', 'config': {'seed': None}}, 'bias_initializer': {'class_name': 'Zeros', 'config': {}}, 'kernel_regularizer': None, 'bias_regularizer': None, 'activity_regularizer': None, 'kernel_constraint': None, 'bias_constraint': None}, 'name': 'block4_conv3', 'inbound_nodes': [[['block4_conv2', 0, 0, {}]]]}, {'class_name': 'MaxPooling2D', 'config': {'name': 'block4_pool', 'trainable': False, 'dtype': 'float32', 'pool_size': (2, 2), 'padding': 'valid', 'strides': (2, 2), 'data_format': 'channels_last'}, 'name': 'block4_pool', 'inbound_nodes': [[['block4_conv3', 0, 0, {}]]]}, {'class_name': 'Conv2D', 'config': {'name': 'block5_conv1', 'trainable': False, 'dtype': 'float32', 'filters': 512, 'kernel_size': (3, 3), 'strides': (1, 1), 'padding': 'same', 'data_format': 'channels_last', 'dilation_rate': (1, 1), 'groups': 1, 'activation': 'relu', 'use_bias': True, 'kernel_initializer': {'class_name': 'GlorotUniform', 'config': {'seed': None}}, 'bias_initializer': {'class_name': 'Zeros', 'config': {}}, 'kernel_regularizer': None, 'bias_regularizer': None, 'activity_regularizer': None, 'kernel_constraint': None, 'bias_constraint': None}, 'name': 'block5_conv1', 'inbound_nodes': [[['block4_pool', 0, 0, {}]]]}, {'class_name': 'Conv2D', 'config': {'name': 'block5_conv2', 'trainable': False, 'dtype': 'float32', 'filters': 512, 'kernel_size': (3, 3), 'strides': (1, 1), 'padding': 'same', 'data_format': 'channels_last', 'dilation_rate': (1, 1), 'groups': 1, 'activation': 'relu', 'use_bias': True, 'kernel_initializer': {'class_name': 'GlorotUniform', 'config': {'seed': None}}, 'bias_initializer': {'class_name': 'Zeros', 'config': {}}, 'kernel_regularizer': None, 'bias_regularizer': None, 'activity_regularizer': None, 'kernel_constraint': None, 'bias_constraint': None}, 'name': 'block5_conv2', 'inbound_nodes': [[['block5_conv1', 0, 0, {}]]]}, {'class_name': 'Conv2D', 'config': {'name': 'block5_conv3', 'trainable': False, 'dtype': 'float32', 'filters': 512, 'kernel_size': (3, 3), 'strides': (1, 1), 'padding': 'same', 'data_format': 'channels_last', 'dilation_rate': (1, 1), 'groups': 1, 'activation': 'relu', 'use_bias': True, 'kernel_initializer': {'class_name': 'GlorotUniform', 'config': {'seed': None}}, 'bias_initializer': {'class_name': 'Zeros', 'config': {}}, 'kernel_regularizer': None, 'bias_regularizer': None, 'activity_regularizer': None, 'kernel_constraint': None, 'bias_constraint': None}, 'name': 'block5_conv3', 'inbound_nodes': [[['block5_conv2', 0, 0, {}]]]}, {'class_name': 'MaxPooling2D', 'config': {'name': 'block5_pool', 'trainable': False, 'dtype': 'float32', 'pool_size': (2, 2), 'padding': 'valid', 'strides': (2, 2), 'data_format': 'channels_last'}, 'name': 'block5_pool', 'inbound_nodes': [[['block5_conv3', 0, 0, {}]]]}], 'input_layers': [['input_3', 0, 0]], 'output_layers': [['block5_pool', 0, 0]]}\n",
      "{'name': 'flatten_5', 'trainable': True, 'dtype': 'float32', 'data_format': 'channels_last'}\n",
      "{'name': 'dense_11', 'trainable': True, 'dtype': 'float32', 'units': 128, 'activation': 'relu', 'use_bias': True, 'kernel_initializer': {'class_name': 'GlorotUniform', 'config': {'seed': None}}, 'bias_initializer': {'class_name': 'Zeros', 'config': {}}, 'kernel_regularizer': None, 'bias_regularizer': None, 'activity_regularizer': None, 'kernel_constraint': None, 'bias_constraint': None}\n",
      "{'name': 'dropout_6', 'trainable': True, 'dtype': 'float32', 'rate': 0.4, 'noise_shape': None, 'seed': None}\n",
      "{'name': 'dense_12', 'trainable': True, 'dtype': 'float32', 'units': 64, 'activation': 'relu', 'use_bias': True, 'kernel_initializer': {'class_name': 'GlorotUniform', 'config': {'seed': None}}, 'bias_initializer': {'class_name': 'Zeros', 'config': {}}, 'kernel_regularizer': None, 'bias_regularizer': None, 'activity_regularizer': None, 'kernel_constraint': None, 'bias_constraint': None}\n",
      "{'name': 'dropout_7', 'trainable': True, 'dtype': 'float32', 'rate': 0.4, 'noise_shape': None, 'seed': None}\n",
      "{'name': 'dense_13', 'trainable': True, 'dtype': 'float32', 'units': 2, 'activation': 'sigmoid', 'use_bias': True, 'kernel_initializer': {'class_name': 'GlorotUniform', 'config': {'seed': None}}, 'bias_initializer': {'class_name': 'Zeros', 'config': {}}, 'kernel_regularizer': None, 'bias_regularizer': None, 'activity_regularizer': None, 'kernel_constraint': None, 'bias_constraint': None}\n"
     ]
    }
   ],
   "source": [
    "for idx in range(len(model.layers)):\n",
    "    print(model.layers[idx].get_config())"
   ]
  },
  {
   "cell_type": "code",
   "execution_count": 29,
   "id": "4b0cb0e5",
   "metadata": {},
   "outputs": [],
   "source": [
    "def show_my_image():\n",
    "    for name, file_info in btn_upload.value.items():\n",
    "        img = decodeImage((file_info['content'])) \n",
    "    #return the image \n",
    "    return img.resize((400,400))"
   ]
  },
  {
   "cell_type": "code",
   "execution_count": 30,
   "id": "26d271e8",
   "metadata": {},
   "outputs": [],
   "source": [
    "def decodeImage(bytesIo):\n",
    "    fmt = whatimage.identify_image(bytesIo)\n",
    "    if fmt in ['heic','heif']:\n",
    "        i = pyheif.read_heif(bytesIo)\n",
    "        pi = Image.frombytes(mode=i.mode, size=i.size, data=i.data)\n",
    "    else:\n",
    "        pi = Image.open(io.BytesIO(bytesIo))\n",
    "    return pi"
   ]
  },
  {
   "cell_type": "code",
   "execution_count": 31,
   "id": "85279b73",
   "metadata": {},
   "outputs": [],
   "source": [
    "def predict(image: Image.Image):\n",
    "    for name, file_info in btn_upload.value.items():\n",
    "        img = decodeImage((file_info['content']))\n",
    "    img = img_to_array(img.resize(size=(224,224)))\n",
    "    img = np.expand_dims(img, axis = 0)\n",
    "    img = img / 127.5 - 1.0    \n",
    "    result = model.predict(img)    \n",
    "    resp = {}  \n",
    "    lbl_pred.value = \"Predicted Class : \" + \"Saffron\" if np.argmax(result)==1 else \"Non-Saffron\"\n",
    "    saffron_prob.value = \"Probability of Saffron \" + f\"{result[0][1]*100:0.2f}%\"  \n",
    "    nsaffron_prob.value = \"Probability of Non-Saffron \" + f\"{result[0][0]*100:0.2f}%\"\n",
    "    # clear the output\n",
    "    out_pl.clear_output()\n",
    "     # display the uploaded image\n",
    "    with out_pl:\n",
    "        display.display(show_my_image())"
   ]
  },
  {
   "cell_type": "code",
   "execution_count": 32,
   "id": "bc0d0d82",
   "metadata": {},
   "outputs": [],
   "source": [
    "# Elements Of the App\n",
    "# upload Button\n",
    "btn_upload = widgets.FileUpload()\n",
    "# output widget to display image \n",
    "out_pl = widgets.Output()\n",
    "# label for the result of prediction\n",
    "lbl_pred = widgets.Label()\n",
    "saffron_prob = widgets.Label()\n",
    "nsaffron_prob = widgets.Label()\n",
    "# Button to classify the uploaded image \n",
    "btn_run = widgets.Button(description='Classify')\n",
    "# event for classify button to predict the result and display uploaded image\n",
    "btn_run.on_click(predict)"
   ]
  },
  {
   "cell_type": "code",
   "execution_count": 33,
   "id": "e0a304ad",
   "metadata": {},
   "outputs": [
    {
     "data": {
      "application/vnd.jupyter.widget-view+json": {
       "model_id": "d3df94e965944d4c9fabf5b1baf1dfd0",
       "version_major": 2,
       "version_minor": 0
      },
      "text/plain": [
       "VBox(box_style='info', children=(Label(value='Select Image'), FileUpload(value={}, description='Upload'), Butt…"
      ]
     },
     "metadata": {},
     "output_type": "display_data"
    }
   ],
   "source": [
    "widgets.VBox([widgets.Label('Select Image'),btn_upload,btn_run,out_pl,lbl_pred,saffron_prob,nsaffron_prob],box_style='info')"
   ]
  },
  {
   "cell_type": "code",
   "execution_count": null,
   "id": "95874374",
   "metadata": {},
   "outputs": [],
   "source": []
  }
 ],
 "metadata": {
  "kernelspec": {
   "display_name": "Python 3",
   "language": "python",
   "name": "python3"
  },
  "language_info": {
   "codemirror_mode": {
    "name": "ipython",
    "version": 3
   },
   "file_extension": ".py",
   "mimetype": "text/x-python",
   "name": "python",
   "nbconvert_exporter": "python",
   "pygments_lexer": "ipython3",
   "version": "3.8.11"
  }
 },
 "nbformat": 4,
 "nbformat_minor": 5
}