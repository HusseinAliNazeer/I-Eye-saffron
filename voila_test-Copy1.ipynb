{
 "cells": [
  {
   "cell_type": "markdown",
   "id": "539cbd69",
   "metadata": {},
   "source": [
    "# i-Eye Saffron Image Classifier"
   ]
  },
  {
   "cell_type": "code",
   "execution_count": 2,
   "id": "160930af",
   "metadata": {},
   "outputs": [],
   "source": [
    "from keras.models import load_model\n",
    "import ipywidgets as widgets\n",
    "import io\n",
    "from PIL import Image\n",
    "import numpy as np\n",
    "from keras.preprocessing.image import img_to_array\n",
    "from IPython import display\n",
    "import whatimage\n",
    "import pyheif"
   ]
  },
  {
   "cell_type": "code",
   "execution_count": 3,
   "id": "aacbd60e",
   "metadata": {},
   "outputs": [],
   "source": [
    "model = load_model('vgg_model_2.hdf5')"
   ]
  },
  {
   "cell_type": "code",
   "execution_count": 4,
   "id": "4b0cb0e5",
   "metadata": {},
   "outputs": [],
   "source": [
    "def show_my_image():\n",
    "    for name, file_info in btn_upload.value.items():\n",
    "        img = decodeImage((file_info['content'])) \n",
    "    #return the image \n",
    "    return img.resize((400,400))"
   ]
  },
  {
   "cell_type": "code",
   "execution_count": 5,
   "id": "26d271e8",
   "metadata": {},
   "outputs": [],
   "source": [
    "def decodeImage(bytesIo):\n",
    "    fmt = whatimage.identify_image(bytesIo)\n",
    "    if fmt in ['heic','heif']:\n",
    "        i = pyheif.read_heif(bytesIo)\n",
    "        pi = Image.frombytes(mode=i.mode, size=i.size, data=i.data)\n",
    "    else:\n",
    "        pi = Image.open(io.BytesIO(bytesIo))\n",
    "    return pi"
   ]
  },
  {
   "cell_type": "code",
   "execution_count": 6,
   "id": "85279b73",
   "metadata": {},
   "outputs": [],
   "source": [
    "def predict(image: Image.Image):\n",
    "    for name, file_info in btn_upload.value.items():\n",
    "        img = decodeImage((file_info['content']))\n",
    "    img = img_to_array(img.resize(size=(224,224)))\n",
    "    img = np.expand_dims(img, axis = 0)\n",
    "    img = img / 127.5 - 1.0    \n",
    "    result = model.predict(img)    \n",
    "    if result[0][1] < 0.9 :\n",
    "        lbl_pred.value = \"Predicted Class : \" + \"Non-Saffron\"\n",
    "    else:\n",
    "        lbl_pred.value = \"Predicted Class : \" + \"Saffron\"\n",
    "    saffron_prob.value = \"Probability of Saffron \" + f\"{result[0][1]*100:0.2f}%\"  \n",
    "    nsaffron_prob.value = \"Probability of Non-Saffron \" + f\"{result[0][0]*100:0.2f}%\"\n",
    "    # clear the output\n",
    "    out_pl.clear_output()\n",
    "     # display the uploaded image\n",
    "    with out_pl:\n",
    "        display.display(show_my_image())"
   ]
  },
  {
   "cell_type": "code",
   "execution_count": 7,
   "id": "bc0d0d82",
   "metadata": {},
   "outputs": [],
   "source": [
    "# Elements Of the App\n",
    "# upload Button\n",
    "btn_upload = widgets.FileUpload()\n",
    "# output widget to display image \n",
    "out_pl = widgets.Output()\n",
    "# label for the result of prediction\n",
    "lbl_pred = widgets.Label()\n",
    "saffron_prob = widgets.Label()\n",
    "nsaffron_prob = widgets.Label()\n",
    "# Button to classify the uploaded image \n",
    "btn_run = widgets.Button(description='Classify')\n",
    "# event for classify button to predict the result and display uploaded image\n",
    "btn_run.on_click(predict)"
   ]
  },
  {
   "cell_type": "code",
   "execution_count": 8,
   "id": "e0a304ad",
   "metadata": {},
   "outputs": [
    {
     "data": {
      "application/vnd.jupyter.widget-view+json": {
       "model_id": "4eda9a134192497f8923ddcc546eb69e",
       "version_major": 2,
       "version_minor": 0
      },
      "text/plain": [
       "VBox(box_style='info', children=(Label(value='Select Image'), FileUpload(value={}, description='Upload'), Butt…"
      ]
     },
     "metadata": {},
     "output_type": "display_data"
    }
   ],
   "source": [
    "widgets.VBox([widgets.Label('Select Image'),btn_upload,btn_run,out_pl,lbl_pred,saffron_prob,nsaffron_prob],box_style='info')"
   ]
  },
  {
   "cell_type": "code",
   "execution_count": null,
   "id": "95874374",
   "metadata": {},
   "outputs": [],
   "source": []
  }
 ],
 "metadata": {
  "kernelspec": {
   "display_name": "Python 3",
   "language": "python",
   "name": "python3"
  },
  "language_info": {
   "codemirror_mode": {
    "name": "ipython",
    "version": 3
   },
   "file_extension": ".py",
   "mimetype": "text/x-python",
   "name": "python",
   "nbconvert_exporter": "python",
   "pygments_lexer": "ipython3",
   "version": "3.8.11"
  }
 },
 "nbformat": 4,
 "nbformat_minor": 5
}
